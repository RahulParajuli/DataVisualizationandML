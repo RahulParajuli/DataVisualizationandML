{
  "nbformat": 4,
  "nbformat_minor": 0,
  "metadata": {
    "colab": {
      "provenance": [],
      "collapsed_sections": [],
      "mount_file_id": "183Ke7tZQ2Pk0NYnJUzRIPEAFcaHgvwq1",
      "authorship_tag": "ABX9TyOYW6kWcpGY7dvS2pniiiai",
      "include_colab_link": true
    },
    "kernelspec": {
      "name": "python3",
      "display_name": "Python 3"
    },
    "language_info": {
      "name": "python"
    }
  },
  "cells": [
    {
      "cell_type": "markdown",
      "metadata": {
        "id": "view-in-github",
        "colab_type": "text"
      },
      "source": [
        "<a href=\"https://colab.research.google.com/github/RahulParajuli/DataVisualizationandML/blob/main/CelebrityDetection.ipynb\" target=\"_parent\"><img src=\"https://colab.research.google.com/assets/colab-badge.svg\" alt=\"Open In Colab\"/></a>"
      ]
    },
    {
      "cell_type": "code",
      "execution_count": null,
      "metadata": {
        "id": "apOPKx_p62xw"
      },
      "outputs": [],
      "source": [
        "from pathlib import Path\n",
        "import matplotlib.pyplot as plt\n",
        "import numpy as np\n",
        "from sklearn import svm, metrics, datasets\n",
        "from sklearn.utils import Bunch\n",
        "from sklearn.model_selection import GridSearchCV, train_test_split\n",
        "\n",
        "from skimage.io import imread\n",
        "from skimage.transform import resize"
      ]
    },
    {
      "cell_type": "code",
      "source": [
        "def load_image_files(container_path, dimension=(64,64)):\n",
        "  image_dir = Path(container_path)\n",
        "  folders = [directory for directory in image_dir.iterdir() if directory.is_dir()]\n",
        "  categories = [fo.name for fo in folders]\n",
        "\n",
        "  descr = \"Celebrity face detection\"\n",
        "  images = []\n",
        "  flat_data = []\n",
        "  target = []\n",
        "\n",
        "  for i, direc in enumerate(folders):\n",
        "    for file in direc.iterdir():\n",
        "      img = imread(file)\n",
        "      img_resized = resize(img, dimension, anti_aliasing=True, mode= 'reflect')\n",
        "      flat_data.append(img_resized.flatten())\n",
        "      images.append(img_resized)\n",
        "      target.append(i)\n",
        "\n",
        "  flat_data = np.array(flat_data)\n",
        "  target = np.array(target)\n",
        "  images = np.array(images)\n",
        "\n",
        "  return Bunch(data=flat_data,target=target, target_name=categories, images=images, DESCR=descr)\n",
        "\n"
      ],
      "metadata": {
        "id": "9v2DabFw9rOc"
      },
      "execution_count": null,
      "outputs": []
    },
    {
      "cell_type": "code",
      "source": [
        "image_dataset = load_image_files (\"/content/drive/MyDrive/Celebrity Faces Dataset\")"
      ],
      "metadata": {
        "id": "TIJRMNoZAddu"
      },
      "execution_count": null,
      "outputs": []
    },
    {
      "cell_type": "code",
      "source": [
        "X_train, X_test, y_train, y_test=train_test_split(image_dataset.data,image_dataset.target, test_size=0.3, random_state=30)"
      ],
      "metadata": {
        "id": "ldpV7Np3AnUQ"
      },
      "execution_count": null,
      "outputs": []
    },
    {
      "cell_type": "code",
      "source": [
        "param_grid = [\n",
        "    {\"C\":[1,10,100,1000], 'kernel':['linear']},\n",
        "    {\"C\":[1,10,100,1000], 'gamma':[0.001, 0.0001], 'kernel':['rbf']},\n",
        "] \n",
        "\n",
        "svc = svm.SVC()\n",
        "clf = GridSearchCV(svc, param_grid)\n",
        "clf.fit(X_train, y_train)"
      ],
      "metadata": {
        "colab": {
          "base_uri": "https://localhost:8080/"
        },
        "id": "nKThdAkpBWRs",
        "outputId": "64243abe-ae98-4d87-e418-5397dc8926db"
      },
      "execution_count": null,
      "outputs": [
        {
          "output_type": "execute_result",
          "data": {
            "text/plain": [
              "GridSearchCV(estimator=SVC(),\n",
              "             param_grid=[{'C': [1, 10, 100, 1000], 'kernel': ['linear']},\n",
              "                         {'C': [1, 10, 100, 1000], 'gamma': [0.001, 0.0001],\n",
              "                          'kernel': ['rbf']}])"
            ]
          },
          "metadata": {},
          "execution_count": 15
        }
      ]
    },
    {
      "cell_type": "code",
      "source": [
        "y_pred = clf.predict(X_test)"
      ],
      "metadata": {
        "id": "6T4gwi1ZBzx_"
      },
      "execution_count": null,
      "outputs": []
    },
    {
      "cell_type": "code",
      "source": [
        "print(y_pred)"
      ],
      "metadata": {
        "colab": {
          "base_uri": "https://localhost:8080/"
        },
        "id": "wnZTx8iTFzcY",
        "outputId": "36f41f8a-1e3d-439a-8f56-e0315167740e"
      },
      "execution_count": null,
      "outputs": [
        {
          "output_type": "stream",
          "name": "stdout",
          "text": [
            "[ 8 14  7  9 14 14  6  5  1 14  5 13 10  1 14 16  2  2  1  3  5 10 10 13\n",
            "  3 13 10  5 15  9  5  4  5  3  7 13  6  6 14 14  0  2 14 15 10 14 10  4\n",
            " 13  3 11  6  1 10  5 14  2  3  2 14 13 13  3  6 15  6  2  4  3  2 12  5\n",
            "  0 14 14  1 14 13  3  2 12  0  1  7  0 16  2 16  2  4 10 12 14  3 14  1\n",
            "  2  8  3  5  3  1  7  5 14 14  0  1 14  0  0  3 14  7  0 14 13  1  6 13\n",
            " 11  6  1  5  8  5 12  7 14 13 10 11  5  1  3  6  4  1  3  1 12 14 14  0\n",
            "  0  5 11 16 11 13 10  9  7  0 11 14  8  6 14  4  8 15 11 14  1 14  3  3\n",
            "  8 13  3 11  0  3  4 16  2  0 13  5  0  8  8 14 16  9 12 12 16 11 10 14\n",
            "  8  6  4 14  5  6 14 10  1  7 14  4  0  4 14 15  4  3 11 10 16 12 14 14\n",
            " 13 13 11 10 11  6 14  7 13 10  0 10 16 14 13 14 11 14  0 10 14  3  7 16\n",
            "  9 16  5  4  6  2  1  0  6  4  6 14 12 11 14  1 10 10  1 14 14  1  4  2\n",
            "  6  8 11  1  3 16 11 14  4  0 13 14  4  8  6 10  8 16  9  4  6  1  6 10\n",
            " 13 10 15 10 10 14 15 15  0  8 14 13  1 14  2  2  4  7  2  2 15  6  9  8\n",
            "  2 14  6  5  6  4  1  7  6  9 14  2  3 13  5  8  7  3  1 12  4  3 13  1\n",
            "  3  4  0  2 13  5  4  0  3  8 15 11  0  3  9  6 13  1  1  4 12  3  1  2\n",
            "  0 12  3  7  1  2 11 11 10  8 14  0  5 16  4  1 14  2 13 14  2  0 16  4\n",
            "  1  5 13 13  0  4 14  7  7  6 14  2 13  8  2  8  3  0  5  0  5 15  5 14\n",
            "  2  5  7  3  7  9  2 13  8 11  0 14  0  7 14 15  2  5 10  5  3 15 12  6\n",
            "  2  6 10  3 12  7 10  0 12  5  1  2  0  5  9  6 10 13  4 14 10  1 16 10\n",
            "  7  6  8 15  5 10  1  6  7 14  5 10  3  5  1  4 14 14 14  9  5  7  5 14\n",
            " 14  5  1 14  4  4  2  4  0  4  5  2 15  2  7 14  9 13 11  2  7 14  3  0\n",
            " 12  8 14 12 11  0 13  0 14  1 11  9 14 13 15 13  7 12 10  5 11  3  9  5\n",
            "  5  1 15  0 11  1 12 14 10  1  0 14]\n"
          ]
        }
      ]
    },
    {
      "cell_type": "code",
      "source": [
        "print(\"Classification report for -\\n{}:\\n{}\\n\".format(\n",
        "    clf, metrics.classification_report(y_test, y_pred)\n",
        "))"
      ],
      "metadata": {
        "colab": {
          "base_uri": "https://localhost:8080/"
        },
        "id": "kQE2wWCFB55y",
        "outputId": "514f0fcb-b3a3-411c-e8c4-93ae7add1ccc"
      },
      "execution_count": null,
      "outputs": [
        {
          "output_type": "stream",
          "name": "stdout",
          "text": [
            "Classification report for -\n",
            "GridSearchCV(estimator=SVC(),\n",
            "             param_grid=[{'C': [1, 10, 100, 1000], 'kernel': ['linear']},\n",
            "                         {'C': [1, 10, 100, 1000], 'gamma': [0.001, 0.0001],\n",
            "                          'kernel': ['rbf']}]):\n",
            "              precision    recall  f1-score   support\n",
            "\n",
            "           0       0.21      0.33      0.25        24\n",
            "           1       0.20      0.26      0.22        31\n",
            "           2       0.19      0.29      0.23        24\n",
            "           3       0.17      0.21      0.19        28\n",
            "           4       0.31      0.29      0.30        34\n",
            "           5       0.12      0.19      0.15        26\n",
            "           6       0.16      0.19      0.18        26\n",
            "           7       0.15      0.19      0.17        21\n",
            "           8       0.27      0.19      0.22        32\n",
            "           9       0.60      0.26      0.37        34\n",
            "          10       0.23      0.24      0.23        34\n",
            "          11       0.20      0.17      0.18        30\n",
            "          12       0.32      0.15      0.21        39\n",
            "          13       0.49      0.55      0.52        31\n",
            "          14       0.52      0.64      0.57        61\n",
            "          15       0.18      0.11      0.14        27\n",
            "          16       0.44      0.18      0.26        38\n",
            "\n",
            "    accuracy                           0.28       540\n",
            "   macro avg       0.28      0.26      0.26       540\n",
            "weighted avg       0.31      0.28      0.28       540\n",
            "\n",
            "\n"
          ]
        }
      ]
    },
    {
      "cell_type": "code",
      "source": [],
      "metadata": {
        "id": "sHO6i9cdFyNk"
      },
      "execution_count": null,
      "outputs": []
    }
  ]
}