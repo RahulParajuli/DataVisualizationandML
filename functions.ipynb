{
  "nbformat": 4,
  "nbformat_minor": 0,
  "metadata": {
    "colab": {
      "name": "functions.ipynb",
      "provenance": [],
      "authorship_tag": "ABX9TyOHKu/sSGl9gFYKqiVfjXOU",
      "include_colab_link": true
    },
    "kernelspec": {
      "name": "python3",
      "display_name": "Python 3"
    },
    "language_info": {
      "name": "python"
    }
  },
  "cells": [
    {
      "cell_type": "markdown",
      "metadata": {
        "id": "view-in-github",
        "colab_type": "text"
      },
      "source": [
        "<a href=\"https://colab.research.google.com/github/RahulParajuli/DataVisualizationandML/blob/main/functions.ipynb\" target=\"_parent\"><img src=\"https://colab.research.google.com/assets/colab-badge.svg\" alt=\"Open In Colab\"/></a>"
      ]
    },
    {
      "cell_type": "code",
      "execution_count": 1,
      "metadata": {
        "id": "86Qr6PRPjQC4"
      },
      "outputs": [],
      "source": [
        "def columndeleter(df, column_name):\n",
        "  print(\"deleting the column: \", column_name)\n",
        "  # new_df = (df.drop['column_name'], axis=1)\n",
        "  del df[column_name]\n",
        "  df.head()\n",
        "  return df\n",
        " \n",
        "def rowdeleter(df, row_number):\n",
        "  print(\"deleting the row number: \", row_number)\n",
        "  df.drop(df.index[row_number])\n",
        "  df.head()\n",
        "  return df\n",
        "\n",
        "def duplicatedeleter(df):\n",
        "  print(\"deleting duplicate values: \")\n",
        "  df.drop_duplicates()\n",
        "  df.shape\n",
        "  return df\n",
        "\n",
        "def columnduplicate(df, column_name):\n",
        "  print(\"deleting duplicate values at: \", column_name)\n",
        "  df.drop_duplicates(column_name)\n",
        "  df.head()\n",
        "  df.shape\n",
        "  return df\n",
        "\n",
        "def description(df):\n",
        "  df = df.describe()\n",
        "  return df\n",
        "\n",
        "def columnDescription(df, column_name):\n",
        "  df = df[column_name].describe()\n",
        "  return df\n",
        "\n",
        "def meandata(df):\n",
        "  meandf = df.mean()\n",
        "  return meandf\n",
        "\n",
        "def meancolumn(df, column_name):\n",
        "  meanCol = df[column_name].mean()\n",
        "  return meanCol\n",
        "\n",
        "def median(df):\n",
        "  mediandf = df.median()\n",
        "  return mediandf\n",
        "\n",
        "def mediancolumn(df, column_name):\n",
        "  medianCol = df[column_name].median()\n",
        "  return medianCol\n",
        "\n",
        "def randomData(df, column_name):\n",
        "  import random\n",
        "  list_value = list(df[column_name])\n",
        "  df2 = random.choice(list_value)\n",
        "  print(df2)"
      ]
    },
    {
      "cell_type": "code",
      "source": [
        "import requests\n",
        "\n",
        "download_url = \"https://raw.githubusercontent.com/fivethirtyeight/data/master/nba-elo/nbaallelo.csv\"\n",
        "target_csv_path = \"nba_all_elo.csv\"\n",
        "\n",
        "response = requests.get(download_url)\n",
        "response.raise_for_status()    # Check that the request was successful\n",
        "with open(target_csv_path, \"wb\") as f:\n",
        "    f.write(response.content)\n",
        "print(\"Download ready.\")"
      ],
      "metadata": {
        "colab": {
          "base_uri": "https://localhost:8080/"
        },
        "id": "CcrSfvrLjRDZ",
        "outputId": "d0dd07a4-83db-4817-fdbf-06604eca6e85"
      },
      "execution_count": 2,
      "outputs": [
        {
          "output_type": "stream",
          "name": "stdout",
          "text": [
            "Download ready.\n"
          ]
        }
      ]
    },
    {
      "cell_type": "code",
      "source": [
        "import pandas as pd\n",
        "data = pd.read_csv(\"/content/nba_all_elo.csv\")"
      ],
      "metadata": {
        "id": "vZvNJmBCjYoO"
      },
      "execution_count": 3,
      "outputs": []
    },
    {
      "cell_type": "code",
      "source": [
        "randomData(data, \"year_id\")"
      ],
      "metadata": {
        "colab": {
          "base_uri": "https://localhost:8080/"
        },
        "id": "rP3pJajYjc9r",
        "outputId": "da8484bd-2b84-466c-c2a0-5c308068f012"
      },
      "execution_count": 4,
      "outputs": [
        {
          "output_type": "stream",
          "name": "stdout",
          "text": [
            "1992\n"
          ]
        }
      ]
    },
    {
      "cell_type": "code",
      "source": [
        ""
      ],
      "metadata": {
        "id": "Si1EkBl4j7N7"
      },
      "execution_count": null,
      "outputs": []
    }
  ]
}